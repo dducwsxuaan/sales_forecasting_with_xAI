{
 "cells": [
  {
   "cell_type": "markdown",
   "id": "bdeda136",
   "metadata": {},
   "source": [
    "# Part II: Exploratory Data Analysis"
   ]
  },
  {
   "cell_type": "markdown",
   "id": "f9e0e12d",
   "metadata": {},
   "source": [
    "## Basic settings"
   ]
  },
  {
   "cell_type": "code",
   "execution_count": 8,
   "id": "bd1fa491",
   "metadata": {},
   "outputs": [
    {
     "name": "stdout",
     "output_type": "stream",
     "text": [
      "The autoreload extension is already loaded. To reload it, use:\n",
      "  %reload_ext autoreload\n"
     ]
    }
   ],
   "source": [
    "%load_ext autoreload\n",
    "%autoreload 2"
   ]
  },
  {
   "cell_type": "code",
   "execution_count": 9,
   "id": "15bce541",
   "metadata": {},
   "outputs": [],
   "source": [
    "import os\n",
    "import sys\n",
    "import warnings\n",
    "from datetime import datetime, timedelta\n",
    "\n",
    "import matplotlib\n",
    "import matplotlib.pyplot as plt\n",
    "import numpy as np\n",
    "import pandas as pd\n",
    "import seaborn as sns\n",
    "\n",
    "warnings.filterwarnings(\"ignore\")\n",
    "pd.options.display.max_rows = 50\n",
    "pd.options.display.max_columns = None"
   ]
  },
  {
   "cell_type": "code",
   "execution_count": 10,
   "id": "02376ab5",
   "metadata": {},
   "outputs": [],
   "source": [
    "DATA_DIR = \"../data\"\n",
    "FIGURES_DIR = \"../figures\""
   ]
  },
  {
   "cell_type": "markdown",
   "id": "e6a3d93e",
   "metadata": {},
   "source": [
    "## Load preprocessed data"
   ]
  },
  {
   "cell_type": "code",
   "execution_count": 11,
   "id": "36a0b2d0",
   "metadata": {},
   "outputs": [],
   "source": [
    "df_sales = pd.read_csv(\n",
    "    os.path.join(DATA_DIR, \"sales_data_preprocessed.csv\"), parse_dates=[\"date\"]\n",
    ")\n",
    "\n",
    "df_weather = pd.read_csv(\n",
    "    os.path.join(DATA_DIR, \"weather_preprocessed.csv\"), parse_dates=[\"date\"]\n",
    ")"
   ]
  },
  {
   "cell_type": "code",
   "execution_count": 12,
   "id": "8cc44c76",
   "metadata": {},
   "outputs": [
    {
     "name": "stdout",
     "output_type": "stream",
     "text": [
      "<class 'pandas.core.frame.DataFrame'>\n",
      "RangeIndex: 201025 entries, 0 to 201024\n",
      "Data columns (total 8 columns):\n",
      " #   Column      Non-Null Count   Dtype         \n",
      "---  ------      --------------   -----         \n",
      " 0   date        201025 non-null  datetime64[ns]\n",
      " 1   province    201025 non-null  object        \n",
      " 2   store_id    201025 non-null  int64         \n",
      " 3   store_name  201025 non-null  object        \n",
      " 4   category    201025 non-null  object        \n",
      " 5   item_id     201025 non-null  int64         \n",
      " 6   item_name   201025 non-null  object        \n",
      " 7   sales       201025 non-null  float64       \n",
      "dtypes: datetime64[ns](1), float64(1), int64(2), object(4)\n",
      "memory usage: 12.3+ MB\n"
     ]
    },
    {
     "data": {
      "text/plain": [
       "None"
      ]
     },
     "metadata": {},
     "output_type": "display_data"
    }
   ],
   "source": [
    "display(df_sales.info())"
   ]
  },
  {
   "cell_type": "code",
   "execution_count": 13,
   "id": "dac3ccae",
   "metadata": {},
   "outputs": [
    {
     "name": "stdout",
     "output_type": "stream",
     "text": [
      "<class 'pandas.core.frame.DataFrame'>\n",
      "RangeIndex: 1462 entries, 0 to 1461\n",
      "Data columns (total 5 columns):\n",
      " #   Column       Non-Null Count  Dtype         \n",
      "---  ------       --------------  -----         \n",
      " 0   province     1462 non-null   object        \n",
      " 1   date         1462 non-null   datetime64[ns]\n",
      " 2   tempearture  1462 non-null   float64       \n",
      " 3   humidity     1462 non-null   float64       \n",
      " 4   season       1462 non-null   object        \n",
      "dtypes: datetime64[ns](1), float64(2), object(2)\n",
      "memory usage: 57.2+ KB\n"
     ]
    },
    {
     "data": {
      "text/plain": [
       "None"
      ]
     },
     "metadata": {},
     "output_type": "display_data"
    }
   ],
   "source": [
    "display(df_weather.info())"
   ]
  }
 ],
 "metadata": {
  "kernelspec": {
   "display_name": "sales_forecast",
   "language": "python",
   "name": "python3"
  },
  "language_info": {
   "codemirror_mode": {
    "name": "ipython",
    "version": 3
   },
   "file_extension": ".py",
   "mimetype": "text/x-python",
   "name": "python",
   "nbconvert_exporter": "python",
   "pygments_lexer": "ipython3",
   "version": "3.11.13"
  }
 },
 "nbformat": 4,
 "nbformat_minor": 5
}
